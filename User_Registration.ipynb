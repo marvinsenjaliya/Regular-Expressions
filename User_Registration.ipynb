{
 "cells": [
  {
   "cell_type": "code",
   "execution_count": 22,
   "metadata": {},
   "outputs": [
    {
     "name": "stdout",
     "output_type": "stream",
     "text": [
      "Please,Enter the First Name:\n",
      "NoneMarvin\n",
      "Marvin\n",
      "Enter the last Name:\n",
      "NoneSenjaliya\n",
      "Senjaliya\n",
      "Enter Email Address\n",
      "Nonemarvinsenjaliya@gmail.com\n",
      "valid Email\n",
      "Enter the mobile number\n",
      "None91 8469320503\n",
      "valid mobile number\n",
      "Enter string to test: Wervi@212\n",
      "Wervi@212\n",
      "no match\n"
     ]
    }
   ],
   "source": [
    "#import regular expressions module\n",
    "import re\n",
    "\n",
    "#function to check first name\n",
    "def check_first_name(First_Name):\n",
    "    pattern = \"[A-Z]+[a-zA-Z]+[a-zA-Z]\"\n",
    "    if(re.search(pattern,First_Name)):\n",
    "        print(First_Name)\n",
    "    else:\n",
    "        print(\"Invalid First Name\")\n",
    "\n",
    "#function to check last name\n",
    "def check_last_name(Last_Name):\n",
    "    if(re.search(\"[A-Z]+[a-zA-Z]+[a-zA-Z]\",Last_Name)):\n",
    "        print(Last_Name)\n",
    "    else:\n",
    "        print(\"Invalid Last Name\")\n",
    "\n",
    "#function to check valid email\n",
    "def check(email):\n",
    "    if(re.search(\"\\w+.+\\w+@+\\w+.+\\w+.+\\w\",email)):\n",
    "       print(\"valid Email\")\n",
    "    else:\n",
    "       print(\"Invalid Email\")\n",
    "\n",
    "#function to check valid mobile number\n",
    "def check_mobile_num(number):\n",
    "    if(re.search(r'(^[+0-9]{1,3})*([0-9]{10,11}$)',number)):\n",
    "        print(\"valid mobile number\")\n",
    "    else:\n",
    "        print(\"invalid mobile number\")\n",
    "\n",
    "#function to check valid password\n",
    "def check_password(password):\n",
    "    if re.match(r'[A-Za-z0-9@#$%^&+=]{8,}', password):\n",
    "        print(\"match\")\n",
    "    else:\n",
    "        print(\"no match\")\n",
    "        \n",
    "        \n",
    "if __name__ == \"__main__\":\n",
    "    First_Name = input(print(\"Please,Enter the First Name:\"))\n",
    "    check_first_name(First_Name)\n",
    "    Last_Name = input(print(\"Enter the last Name:\"))\n",
    "    check_last_name(Last_Name)\n",
    "    Email_Address = input(print(\"Enter Email Address\"))\n",
    "    check(Email_Address)\n",
    "    Mobile_Number = input(print(\"Enter the mobile number\"))\n",
    "    check_mobile_num(Mobile_Number)\n",
    "    password = print(input(\"Enter string to test: \"))\n",
    "    password = str(password)\n",
    "    check_password(password)\n",
    "    \n",
    "    \n",
    "    \n",
    "        \n",
    "\n",
    "    \n",
    "\n"
   ]
  },
  {
   "cell_type": "code",
   "execution_count": null,
   "metadata": {},
   "outputs": [],
   "source": []
  }
 ],
 "metadata": {
  "anaconda-cloud": {},
  "kernelspec": {
   "display_name": "Python [default]",
   "language": "python",
   "name": "python3"
  },
  "language_info": {
   "codemirror_mode": {
    "name": "ipython",
    "version": 3
   },
   "file_extension": ".py",
   "mimetype": "text/x-python",
   "name": "python",
   "nbconvert_exporter": "python",
   "pygments_lexer": "ipython3",
   "version": "3.5.5"
  }
 },
 "nbformat": 4,
 "nbformat_minor": 1
}
